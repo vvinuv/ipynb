{
 "metadata": {
  "name": "",
  "signature": "sha256:9c470b277e531809f479aae7e8413e68b415a9d9c333b29531b5a3818130f1b0"
 },
 "nbformat": 3,
 "nbformat_minor": 0,
 "worksheets": [
  {
   "cells": [
    {
     "cell_type": "code",
     "collapsed": false,
     "input": [
      "import multiprocessing\n",
      "import numpy as np\n",
      "import time\n",
      "from multiprocessing import Pool\n"
     ],
     "language": "python",
     "metadata": {},
     "outputs": [],
     "prompt_number": 1
    },
    {
     "cell_type": "code",
     "collapsed": false,
     "input": [
      "def worker(num):\n",
      "    \"\"\"worker function\"\"\"\n",
      "    time.sleep(1)\n",
      "    print 'Worker %d'%num\n",
      "    return num**3, num*num\n",
      "\n",
      "if __name__ == '__main__':\n",
      "\n",
      "    pool = Pool(processes=5)\n",
      "    results = []\n",
      "    for i in range(15):\n",
      "        results.append(pool.apply_async(worker, args=(i,)))\n",
      "    pool.close() #This prevent any other job to be submitted to the pool\n",
      "    pool.join()"
     ],
     "language": "python",
     "metadata": {},
     "outputs": [
      {
       "output_type": "stream",
       "stream": "stdout",
       "text": [
        "Worker 2\n",
        "Worker 1\n",
        "Worker 3\n",
        "Worker 4\n",
        "Worker 0\n",
        "Worker 6Worker 7Worker 9Worker 5Worker 8\n",
        "\n",
        "\n",
        "\n",
        "\n",
        "Worker 12Worker 11Worker 14Worker 10Worker 13\n",
        "\n",
        "\n",
        "\n",
        "\n"
       ]
      }
     ],
     "prompt_number": 21
    },
    {
     "cell_type": "code",
     "collapsed": false,
     "input": [
      "for result in results:\n",
      "    print result.get()"
     ],
     "language": "python",
     "metadata": {},
     "outputs": [
      {
       "output_type": "stream",
       "stream": "stdout",
       "text": [
        "(0, 0)\n",
        "(1, 1)\n",
        "(8, 4)\n",
        "(27, 9)\n",
        "(64, 16)\n",
        "(125, 25)\n",
        "(216, 36)\n",
        "(343, 49)\n",
        "(512, 64)\n",
        "(729, 81)\n",
        "(1000, 100)\n",
        "(1331, 121)\n",
        "(1728, 144)\n",
        "(2197, 169)\n",
        "(2744, 196)\n"
       ]
      }
     ],
     "prompt_number": 22
    },
    {
     "cell_type": "code",
     "collapsed": false,
     "input": [
      "5%5"
     ],
     "language": "python",
     "metadata": {},
     "outputs": [
      {
       "metadata": {},
       "output_type": "pyout",
       "prompt_number": 16,
       "text": [
        "0"
       ]
      }
     ],
     "prompt_number": 16
    },
    {
     "cell_type": "code",
     "collapsed": false,
     "input": [],
     "language": "python",
     "metadata": {},
     "outputs": []
    }
   ],
   "metadata": {}
  }
 ]
}