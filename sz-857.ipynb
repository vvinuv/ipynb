{
 "metadata": {
  "name": "",
  "signature": "sha256:f7f642d35d6b3bf649ad2ab34c259bb630695bc08b8e1d898ef88aca326ec9c0"
 },
 "nbformat": 3,
 "nbformat_minor": 0,
 "worksheets": [
  {
   "cells": [
    {
     "cell_type": "code",
     "collapsed": false,
     "input": [
      "import os\n",
      "os.chdir('/media/star3/vinu/maps/bruteforce')"
     ],
     "language": "python",
     "metadata": {},
     "outputs": []
    },
    {
     "cell_type": "code",
     "collapsed": false,
     "input": [
      "%pylab inline"
     ],
     "language": "python",
     "metadata": {},
     "outputs": []
    },
    {
     "cell_type": "code",
     "collapsed": false,
     "input": [
      "sys.path.append('../')\n",
      "import helper_funcs as hf"
     ],
     "language": "python",
     "metadata": {},
     "outputs": []
    },
    {
     "cell_type": "code",
     "collapsed": false,
     "input": [
      "import cc_at_physical_scale as cc"
     ],
     "language": "python",
     "metadata": {},
     "outputs": []
    },
    {
     "cell_type": "code",
     "collapsed": false,
     "input": [
      "hf.randomize_ymap('../ludo1_ra_dec_y_2048_noavg_nside0_857.fits', '../random_nside0_857_2.fits')"
     ],
     "language": "python",
     "metadata": {},
     "outputs": []
    },
    {
     "cell_type": "code",
     "collapsed": false,
     "input": [
      "reload(cc)\n",
      "Nprocess = 40\n",
      "NperProcess = 500\n",
      "\n",
      "types = ['857']\n",
      "\n",
      "params = cc.get_params()\n",
      "pid = params[0] \n",
      "mtype = params[2]\n",
      "d_bins = params[3]\n",
      "o_nside=8\n",
      "o_nside_857 = 8 # 1 for 857 and 8 for rest\n",
      "o_nside = params[1] # 1 for 857 and 8 for rest\n",
      "random_file = 0\n",
      "\n"
     ],
     "language": "python",
     "metadata": {},
     "outputs": []
    },
    {
     "cell_type": "code",
     "collapsed": false,
     "input": [
      "random = 2\n",
      "struc_cata, y_cata, ofile, back_857 = cc.get_filenames(14.5, 16, mtype, o_nside, types[0], random)\n",
      "\n",
      "cc.run_cc(struc_cata, y_cata, ofile, d_bins, pid, Nprocess, NperProcess)"
     ],
     "language": "python",
     "metadata": {},
     "outputs": []
    },
    {
     "cell_type": "code",
     "collapsed": false,
     "input": [
      "struc_cata, y_cata, ofile, back_857 = cc.get_filenames(11, 12, mtype, o_nside, o_nside_857, types[0], random_file)\n",
      "\n",
      "print struc_cata, y_cata, ofile, back_857\n",
      "cc.run_cc(struc_cata, y_cata, ofile, d_bins, pid, Nprocess, NperProcess)\n"
     ],
     "language": "python",
     "metadata": {},
     "outputs": []
    },
    {
     "cell_type": "code",
     "collapsed": false,
     "input": [
      "struc_cata, y_cata, ofile, back_857 = cc.get_filenames(12, 13, mtype, o_nside, o_nside_857, types[0], random_file)\n",
      "\n",
      "print struc_cata, y_cata, ofile, back_857\n",
      "cc.run_cc(struc_cata, y_cata, ofile, d_bins, pid, Nprocess, NperProcess)"
     ],
     "language": "python",
     "metadata": {},
     "outputs": []
    },
    {
     "cell_type": "code",
     "collapsed": false,
     "input": [
      "struc_cata, y_cata, ofile, back_857 = cc.get_filenames(13, 14, mtype, o_nside, o_nside_857, types[0], random_file)\n",
      "\n",
      "print struc_cata, y_cata, ofile, back_857\n",
      "cc.run_cc(struc_cata, y_cata, ofile, d_bins, pid, Nprocess, NperProcess)"
     ],
     "language": "python",
     "metadata": {},
     "outputs": []
    },
    {
     "cell_type": "code",
     "collapsed": false,
     "input": [
      "struc_cata, y_cata, ofile, back_857 = cc.get_filenames(14., 14.5, mtype, o_nside, o_nside_857, types[0], random_file)\n",
      "\n",
      "print struc_cata, y_cata, ofile, back_857\n",
      "cc.run_cc(struc_cata, y_cata, ofile, d_bins, pid, Nprocess, NperProcess)"
     ],
     "language": "python",
     "metadata": {},
     "outputs": []
    },
    {
     "cell_type": "code",
     "collapsed": false,
     "input": [],
     "language": "python",
     "metadata": {},
     "outputs": []
    }
   ],
   "metadata": {}
  }
 ]
}