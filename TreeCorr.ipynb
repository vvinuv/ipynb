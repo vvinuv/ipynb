{
 "metadata": {
  "name": "",
  "signature": "sha256:e91a77e772ecbc332f9231b5a5adcb7f6657d25db7bd5b5d9f9991f80724c50d"
 },
 "nbformat": 3,
 "nbformat_minor": 0,
 "worksheets": [
  {
   "cells": [
    {
     "cell_type": "code",
     "collapsed": false,
     "input": [
      "%pylab inline"
     ],
     "language": "python",
     "metadata": {},
     "outputs": [
      {
       "output_type": "stream",
       "stream": "stdout",
       "text": [
        "Populating the interactive namespace from numpy and matplotlib\n"
       ]
      }
     ],
     "prompt_number": 1
    },
    {
     "cell_type": "code",
     "collapsed": false,
     "input": [
      "import treecorr"
     ],
     "language": "python",
     "metadata": {},
     "outputs": [],
     "prompt_number": 2
    },
    {
     "cell_type": "code",
     "collapsed": false,
     "input": [
      "treecorr.version"
     ],
     "language": "python",
     "metadata": {},
     "outputs": [
      {
       "metadata": {},
       "output_type": "pyout",
       "prompt_number": 23,
       "text": [
        "'3.0.2'"
       ]
      }
     ],
     "prompt_number": 23
    },
    {
     "cell_type": "code",
     "collapsed": false,
     "input": [
      "ra = np.random.uniform(0,45, 20000)\n",
      "dec = np.random.uniform(0,45, 20000)\n",
      "g1 = np.random.rand(20000)\n",
      "g2 = np.random.rand(20000)\n",
      "k = np.random.rand(20000)"
     ],
     "language": "python",
     "metadata": {},
     "outputs": [],
     "prompt_number": 9
    },
    {
     "cell_type": "code",
     "collapsed": false,
     "input": [
      "cat = treecorr.Catalog(ra=ra, dec=dec, g1=g1, g2=g2, ra_units='deg', dec_units='deg')"
     ],
     "language": "python",
     "metadata": {},
     "outputs": [],
     "prompt_number": 10
    },
    {
     "cell_type": "code",
     "collapsed": false,
     "input": [
      "gg = treecorr.G2Correlation(bin_size=0.1, min_sep=1, max_sep=500, sep_units='arcmin', bin_slop=0.5)"
     ],
     "language": "python",
     "metadata": {},
     "outputs": [],
     "prompt_number": 11
    },
    {
     "cell_type": "code",
     "collapsed": false,
     "input": [
      "gg.process(cat)"
     ],
     "language": "python",
     "metadata": {},
     "outputs": [],
     "prompt_number": 12
    },
    {
     "cell_type": "code",
     "collapsed": false,
     "input": [
      "pl.errorbar(np.exp(gg.logr), gg.xip, gg.varxi, c='r')\n",
      "pl.errorbar(np.exp(gg.logr), gg.xim, gg.varxi, c='k')\n",
      "pl.xscale('log')\n",
      "pl.ylabel(r'$\\xi$')\n",
      "pl.xlabel('R (arcmin)')"
     ],
     "language": "python",
     "metadata": {},
     "outputs": [
      {
       "metadata": {},
       "output_type": "pyout",
       "prompt_number": 13,
       "text": [
        "<matplotlib.text.Text at 0x5022d50>"
       ]
      },
      {
       "metadata": {},
       "output_type": "display_data",
       "png": "[encoded data removed]",
       "text": [
        "<matplotlib.figure.Figure at 0x5032950>"
       ]
      }
     ],
     "prompt_number": 13
    },
    {
     "cell_type": "code",
     "collapsed": false,
     "input": [
      "cat1 = treecorr.Catalog(ra=ra, dec=dec, k=k, ra_units='deg', dec_units='deg')\n",
      "cat2 = treecorr.Catalog(ra=ra, dec=dec, k=k, ra_units='deg', dec_units='deg')"
     ],
     "language": "python",
     "metadata": {},
     "outputs": [],
     "prompt_number": 18
    },
    {
     "cell_type": "code",
     "collapsed": false,
     "input": [
      "nk = treecorr.NKCorrelation(bin_size=0.1, min_sep=1, max_sep=500, sep_units='arcmin', bin_slop=0.5)"
     ],
     "language": "python",
     "metadata": {},
     "outputs": [],
     "prompt_number": 19
    },
    {
     "cell_type": "code",
     "collapsed": false,
     "input": [
      "nk.process(cat1, cat2)"
     ],
     "language": "python",
     "metadata": {},
     "outputs": [],
     "prompt_number": 20
    },
    {
     "cell_type": "code",
     "collapsed": false,
     "input": [
      "pl.errorbar(np.exp(nk.logr), nk.xi, nk.varxi, c='r')\n",
      "pl.xscale('log')\n",
      "pl.ylabel(r'$\\xi$')\n",
      "pl.xlabel('R (arcmin)')"
     ],
     "language": "python",
     "metadata": {},
     "outputs": [
      {
       "metadata": {},
       "output_type": "pyout",
       "prompt_number": 22,
       "text": [
        "<matplotlib.text.Text at 0x5c65f10>"
       ]
      },
      {
       "metadata": {},
       "output_type": "display_data",
       "png": "[encoded data removed]",
       "text": [
        "<matplotlib.figure.Figure at 0x5c90550>"
       ]
      }
     ],
     "prompt_number": 22
    },
    {
     "cell_type": "code",
     "collapsed": false,
     "input": [],
     "language": "python",
     "metadata": {},
     "outputs": []
    }
   ],
   "metadata": {}
  }
 ]
}