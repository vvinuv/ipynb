{
 "metadata": {
  "name": "",
  "signature": "sha256:b243e129fb784ab52a291424287a0052a91cb086d056525f98f30ed490deda40"
 },
 "nbformat": 3,
 "nbformat_minor": 0,
 "worksheets": [
  {
   "cells": [
    {
     "cell_type": "heading",
     "level": 1,
     "metadata": {},
     "source": [
      "Redmapper LRG and cluster catalogs"
     ]
    },
    {
     "cell_type": "code",
     "collapsed": false,
     "input": [
      "import os\n",
      "os.chdir('/media/star3/vinu/DES_vinu/DES_catalogs')"
     ],
     "language": "python",
     "metadata": {},
     "outputs": [],
     "prompt_number": 2
    },
    {
     "cell_type": "code",
     "collapsed": false,
     "input": [
      "import numpy as np\n",
      "from astropy.io import fits\n",
      "import pylab as pl"
     ],
     "language": "python",
     "metadata": {},
     "outputs": [],
     "prompt_number": 4
    },
    {
     "cell_type": "code",
     "collapsed": false,
     "input": [
      "%pylab inline"
     ],
     "language": "python",
     "metadata": {},
     "outputs": [
      {
       "output_type": "stream",
       "stream": "stdout",
       "text": [
        "Populating the interactive namespace from numpy and matplotlib\n"
       ]
      }
     ],
     "prompt_number": 5
    },
    {
     "cell_type": "code",
     "collapsed": false,
     "input": [
      "f_clus = fits.open('sva1_gold_1.0.2_run_redmapper_v6.1.3_lgt5_catalog.fit')[1].data"
     ],
     "language": "python",
     "metadata": {},
     "outputs": [],
     "prompt_number": 8
    },
    {
     "cell_type": "code",
     "collapsed": false,
     "input": [
      "f_clus.names"
     ],
     "language": "python",
     "metadata": {},
     "outputs": [
      {
       "metadata": {},
       "output_type": "pyout",
       "prompt_number": 9,
       "text": [
        "['MEM_MATCH_ID',\n",
        " 'RA',\n",
        " 'DEC',\n",
        " 'MODEL_MAG',\n",
        " 'MODEL_MAGERR',\n",
        " 'IMAG',\n",
        " 'IMAG_ERR',\n",
        " 'ZRED',\n",
        " 'ZRED_E',\n",
        " 'ZRED_CHISQ',\n",
        " 'BCG_SPEC_Z',\n",
        " 'Z_SPEC_INIT',\n",
        " 'Z_INIT',\n",
        " 'Z',\n",
        " 'LAMBDA_CHISQ',\n",
        " 'LAMBDA_CHISQ_E',\n",
        " 'LAMBDA_ZRED',\n",
        " 'LAMBDA_ZRED_E',\n",
        " 'R_LAMBDA',\n",
        " 'SCALEVAL',\n",
        " 'MASKFRAC',\n",
        " 'C_LAMBDA',\n",
        " 'C_LAMBDA_ERR',\n",
        " 'MAG_LAMBDA_ERR',\n",
        " 'CHISQ',\n",
        " 'Z_LAMBDA',\n",
        " 'Z_LAMBDA_E',\n",
        " 'EBV_MEAN',\n",
        " 'LNLAMLIKE',\n",
        " 'LNBCGLIKE',\n",
        " 'LNLIKE',\n",
        " 'PZBINS',\n",
        " 'PZ',\n",
        " 'NCROSS',\n",
        " 'RMASK',\n",
        " 'RA_ORIG',\n",
        " 'DEC_ORIG',\n",
        " 'W',\n",
        " 'DLAMBDA_DZ',\n",
        " 'DLAMBDA_DZ2',\n",
        " 'DLAMBDAVAR_DZ',\n",
        " 'DLAMBDAVAR_DZ2',\n",
        " 'LAMBDA_CHISQ_C',\n",
        " 'LAMBDA_CHISQ_CE',\n",
        " 'NCENT',\n",
        " 'NCENT_GOOD',\n",
        " 'RA_CENT',\n",
        " 'DEC_CENT',\n",
        " 'ID_CENT',\n",
        " 'LAMBDA_CHISQ_CENT',\n",
        " 'ZLAMBDA_CENT',\n",
        " 'P_BCG',\n",
        " 'P_CEN',\n",
        " 'Q_CEN',\n",
        " 'P_FG',\n",
        " 'Q_MISS',\n",
        " 'P_SAT',\n",
        " 'P_C',\n",
        " 'BCG_ILUM',\n",
        " 'ILUM',\n",
        " 'Z_LAMBDA_RAW',\n",
        " 'Z_LAMBDA_E_RAW',\n",
        " 'LIM_EXPTIME',\n",
        " 'LIM_LIMMAG',\n",
        " 'LIM_LIMMAG_HARD']"
       ]
      }
     ],
     "prompt_number": 9
    },
    {
     "cell_type": "code",
     "collapsed": false,
     "input": [
      "pl.scatter(f_clus['ra'], f_clus['dec'], s=1)\n",
      "pl.xlabel('RA')\n",
      "pl.ylabel('DEC')"
     ],
     "language": "python",
     "metadata": {},
     "outputs": [
      {
       "metadata": {},
       "output_type": "pyout",
       "prompt_number": 11,
       "text": [
        "<matplotlib.text.Text at 0x47fa210>"
       ]
      },
      {
       "metadata": {},
       "output_type": "display_data",
       "png": "[encoded data removed]",
       "text": [
        "<matplotlib.figure.Figure at 0x47e8d90>"
       ]
      }
     ],
     "prompt_number": 11
    },
    {
     "cell_type": "code",
     "collapsed": false,
     "input": [
      "spte = (f_clus['ra'] > 60) & (f_clus['ra'] < 90) & (f_clus['dec'] < -40) & (f_clus['dec'] > -63)\n",
      "print 'Number of clusters in SPT-E > ', spte[spte].shape[0]"
     ],
     "language": "python",
     "metadata": {},
     "outputs": [
      {
       "output_type": "stream",
       "stream": "stdout",
       "text": [
        "Number of clusters in SPT-E >  14494\n"
       ]
      }
     ],
     "prompt_number": 19
    },
    {
     "cell_type": "code",
     "collapsed": false,
     "input": [
      "xxx = pl.hist(f_clus['Z_LAMBDA'][spte], 30, color='red')\n",
      "pl.xlabel('Photo Z')\n",
      "pl.ylabel('Number of galaxies')"
     ],
     "language": "python",
     "metadata": {},
     "outputs": [
      {
       "metadata": {},
       "output_type": "pyout",
       "prompt_number": 16,
       "text": [
        "<matplotlib.text.Text at 0x4e58550>"
       ]
      },
      {
       "metadata": {},
       "output_type": "display_data",
       "png": "[encoded data removed]",
       "text": [
        "<matplotlib.figure.Figure at 0x4e54510>"
       ]
      }
     ],
     "prompt_number": 16
    },
    {
     "cell_type": "code",
     "collapsed": false,
     "input": [
      "xxx = pl.hist(f_clus['LAMBDA_CHISQ'][spte], 100, color='red')\n",
      "pl.xlabel('Richness')\n",
      "pl.ylabel('Number of galaxies')\n",
      "pl.xscale('log')\n",
      "pl.xlim([5, 100])"
     ],
     "language": "python",
     "metadata": {},
     "outputs": [
      {
       "metadata": {},
       "output_type": "pyout",
       "prompt_number": 18,
       "text": [
        "(5, 100)"
       ]
      },
      {
       "metadata": {},
       "output_type": "display_data",
       "png": "[encoded data removed]",
       "text": [
        "<matplotlib.figure.Figure at 0x4bb5090>"
       ]
      }
     ],
     "prompt_number": 18
    },
    {
     "cell_type": "code",
     "collapsed": false,
     "input": [
      "f_lrg = fits.open('sva1_gold_1.0.2_run_redmapper_v6.1.3-v_lrgs_z10-90.fits')[1].data"
     ],
     "language": "python",
     "metadata": {},
     "outputs": [],
     "prompt_number": 20
    },
    {
     "cell_type": "code",
     "collapsed": false,
     "input": [
      "f_lrg.names"
     ],
     "language": "python",
     "metadata": {},
     "outputs": [
      {
       "metadata": {},
       "output_type": "pyout",
       "prompt_number": 21,
       "text": [
        "['ID',\n",
        " 'RA',\n",
        " 'DEC',\n",
        " 'OMAG',\n",
        " 'OMAG_ERR',\n",
        " 'IMAG',\n",
        " 'IMAG_ERR',\n",
        " 'ZRED2',\n",
        " 'ZRED2_E',\n",
        " 'CHISQ',\n",
        " 'ILUM',\n",
        " 'LRG',\n",
        " 'VLIM']"
       ]
      }
     ],
     "prompt_number": 21
    },
    {
     "cell_type": "code",
     "collapsed": false,
     "input": [
      "r = np.random.randint(0, f_lrg['ra'].shape[0], 1e4)\n",
      "pl.scatter(f_lrg['ra'][r], f_lrg['dec'][r], s=1)\n",
      "pl.xlabel('RA')\n",
      "pl.ylabel('DEC')"
     ],
     "language": "python",
     "metadata": {},
     "outputs": [
      {
       "metadata": {},
       "output_type": "pyout",
       "prompt_number": 22,
       "text": [
        "<matplotlib.text.Text at 0x4b2bd10>"
       ]
      },
      {
       "output_type": "stream",
       "stream": "stdout",
       "text": [
        "ERROR! Session/line number was not unique in database. History logging moved to new session 32\n"
       ]
      },
      {
       "metadata": {},
       "output_type": "display_data",
       "png": "[encoded data removed]",
       "text": [
        "<matplotlib.figure.Figure at 0x4e65390>"
       ]
      }
     ],
     "prompt_number": 22
    },
    {
     "cell_type": "code",
     "collapsed": false,
     "input": [
      "spte_lrg = (f_lrg['ra'] > 60) & (f_lrg['ra'] < 90) & (f_lrg['dec'] < -40) & (f_lrg['dec'] > -63)\n",
      "print 'Number of LRGs in SPT-E > ', spte_lrg[spte_lrg].shape[0]"
     ],
     "language": "python",
     "metadata": {},
     "outputs": [
      {
       "output_type": "stream",
       "stream": "stdout",
       "text": [
        "Number of LRGs in SPT-E >  1103879\n"
       ]
      }
     ],
     "prompt_number": 23
    },
    {
     "cell_type": "code",
     "collapsed": false,
     "input": [
      "xxx = pl.hist(f_lrg['ZRED2'][spte_lrg], 30, color='red')\n",
      "pl.xlabel('Photo Z')\n",
      "pl.ylabel('Number of LRGs')"
     ],
     "language": "python",
     "metadata": {},
     "outputs": [
      {
       "metadata": {},
       "output_type": "pyout",
       "prompt_number": 25,
       "text": [
        "<matplotlib.text.Text at 0x57e6150>"
       ]
      },
      {
       "metadata": {},
       "output_type": "display_data",
       "png": "[encoded data removed]",
       "text": [
        "<matplotlib.figure.Figure at 0x4e51510>"
       ]
      }
     ],
     "prompt_number": 25
    },
    {
     "cell_type": "code",
     "collapsed": false,
     "input": [],
     "language": "python",
     "metadata": {},
     "outputs": []
    }
   ],
   "metadata": {}
  }
 ]
}